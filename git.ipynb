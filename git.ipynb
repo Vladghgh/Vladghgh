{
  "cells": [
    {
      "cell_type": "markdown",
      "metadata": {
        "id": "view-in-github",
        "colab_type": "text"
      },
      "source": [
        "<a href=\"https://colab.research.google.com/github/Vladghgh/Vladghgh/blob/main/git.ipynb\" target=\"_parent\"><img src=\"https://colab.research.google.com/assets/colab-badge.svg\" alt=\"Open In Colab\"/></a>"
      ]
    },
    {
      "cell_type": "code",
      "execution_count": 39,
      "metadata": {
        "colab": {
          "base_uri": "https://localhost:8080/"
        },
        "id": "7eYZFi-F7-eP",
        "outputId": "01d19979-399a-4c25-db0a-73e129e69f0a"
      },
      "outputs": [
        {
          "output_type": "stream",
          "name": "stdout",
          "text": [
            "Reading package lists... Done\n",
            "Building dependency tree... Done\n",
            "Reading state information... Done\n",
            "git is already the newest version (1:2.34.1-1ubuntu1.11).\n",
            "0 upgraded, 0 newly installed, 0 to remove and 49 not upgraded.\n",
            "[Errno 2] No such file or directory: '/content/drive/MyDrive/pipe'\n",
            "/content\n",
            "Reinitialized existing Git repository in /content/name/.git/\n"
          ]
        }
      ],
      "source": [
        "!apt-get install -y git\n",
        "%cd /content/drive/MyDrive/pipe\n",
        "username = \"Vladghgh\"\n",
        "repository = \"name\"\n",
        "git_token = \"eJwdy70KwjAQAOB3uTlLxS4ZrYiKUEGQOIVrerahaRIv/bGI7y52/eD7ABpDKekhdORBQtMGrbCwV6fUI16KSW3al592OZ2ae3bMy/P2dsj2DALWooclEkioCJn+mkxYAeveehnHylmjO1oEE9YycCOYYhBjIpbUo3ViDtw9XZhBAL2jZUoaB5B+dO77A3l2OLk=\"\n",
        "!git init name\n"
      ]
    }
  ],
  "metadata": {
    "colab": {
      "provenance": [],
      "authorship_tag": "ABX9TyNpDX/cam3+kzHkf3G3d7AA",
      "include_colab_link": true
    },
    "kernelspec": {
      "display_name": "Python 3",
      "name": "python3"
    },
    "language_info": {
      "name": "python"
    }
  },
  "nbformat": 4,
  "nbformat_minor": 0
}